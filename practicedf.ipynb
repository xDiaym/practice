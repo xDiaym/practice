{
 "cells": [
  {
   "cell_type": "markdown",
   "metadata": {},
   "source": [
    "Учебно-технологическая практика Некиров М.В. К3-22Б"
   ]
  },
  {
   "cell_type": "code",
   "execution_count": 7,
   "metadata": {
    "ExecuteTime": {
     "end_time": "2023-07-31T09:15:30.203625400Z",
     "start_time": "2023-07-31T09:15:15.524572Z"
    }
   },
   "outputs": [],
   "source": [
    "%matplotlib inline\n",
    "from datetime import datetime\n",
    "import numpy as np\n",
    "import scipy.stats as stats\n",
    "import matplotlib.pyplot as plt\n",
    "import pandas as pd\n",
    "import ipywidgets as widgets\n",
    "from bisect import bisect\n",
    "from matplotlib.colors import Normalize\n",
    "from pathlib import Path\n",
    "import os"
   ]
  },
  {
   "cell_type": "code",
   "execution_count": 31,
   "metadata": {
    "ExecuteTime": {
     "end_time": "2023-07-31T09:15:44.615469100Z",
     "start_time": "2023-07-31T09:15:30.203625400Z"
    }
   },
   "outputs": [
    {
     "name": "stdout",
     "output_type": "stream",
     "text": [
      "Hydra-L.json C:\\Users\\idiya\\practice\\datasets\\Hydra-L.json\n",
      "Hydra-L1.json C:\\Users\\idiya\\practice\\datasets\\Hydra-L1.json\n",
      "reference.json C:\\Users\\idiya\\practice\\datasets\\reference.json\n",
      "Опорный барометр.json C:\\Users\\idiya\\practice\\datasets\\Опорный барометр.json\n",
      "Паскаль.json C:\\Users\\idiya\\practice\\datasets\\Паскаль.json\n",
      "РОСА К-2.json C:\\Users\\idiya\\practice\\datasets\\РОСА К-2.json\n",
      "Сервер dbrobo.json C:\\Users\\idiya\\practice\\datasets\\Сервер dbrobo.json\n",
      "Сервер dokuwiki.json C:\\Users\\idiya\\practice\\datasets\\Сервер dokuwiki.json\n",
      "Сервер K3edu.json C:\\Users\\idiya\\practice\\datasets\\Сервер K3edu.json\n",
      "Сервер webrobo.json C:\\Users\\idiya\\practice\\datasets\\Сервер webrobo.json\n",
      "Сервер СЕВ.json C:\\Users\\idiya\\practice\\datasets\\Сервер СЕВ.json\n",
      "Тест воздуха.json C:\\Users\\idiya\\practice\\datasets\\Тест воздуха.json\n",
      "Тест СБ.json C:\\Users\\idiya\\practice\\datasets\\Тест СБ.json\n",
      "Тест Студии.json C:\\Users\\idiya\\practice\\datasets\\Тест Студии.json\n",
      "OK\n"
     ]
    }
   ],
   "source": [
    "def load_dataset(path: Path) -> pd.DataFrame:\n",
    "    df = pd.read_json(path)\n",
    "    df.date = pd.to_datetime(df.date, format=\"%Y-%m-%d %H:%M:%S\")\n",
    "    df.set_index('date', inplace=True)\n",
    "    return df\n",
    "\n",
    "ROOT = Path(os.getcwd()).resolve()\n",
    "\n",
    "dataframes = {}\n",
    "for file in os.listdir('datasets'):\n",
    "    path = ROOT / 'datasets' / file\n",
    "    print(file, path)\n",
    "    dataframes[path.stem] = load_dataset(path)\n",
    "print('OK')"
   ]
  },
  {
   "cell_type": "code",
   "execution_count": 3,
   "metadata": {
    "ExecuteTime": {
     "end_time": "2023-07-31T09:15:44.660869900Z",
     "start_time": "2023-07-31T09:15:44.629574300Z"
    }
   },
   "outputs": [],
   "source": [
    "def zscore_cleaning(data) -> pd.DataFrame:\n",
    "    z = np.abs(stats.zscore(data))\n",
    "    data = data[(z < 3).all(axis=1)]\n",
    "    return data\n",
    "\n",
    "\n",
    "def quantile_cleaning(data) -> pd.DataFrame:\n",
    "    Q1 = data.quantile(0.25)\n",
    "    Q3 = data.quantile(0.75)\n",
    "    IQR = data.apply(stats.iqr)\n",
    "    data = data[~((data < (Q1 - 1.5 * IQR)) | (data > (Q3 + 1.5 * IQR))).any(axis=1)]\n",
    "    return data\n",
    "\n",
    "\n",
    "def draw_mean(data: pd.DataFrame, window: int | str = '1h') -> None:\n",
    "    data = data.dropna()\n",
    "    res = data.resample(window).mean()\n",
    "    plt.plot(data)\n",
    "    plt.plot(res, color='red')\n",
    "    plt.xticks(rotation=70)\n",
    "    plt.plot()\n",
    "    plt.show()\n",
    "\n",
    "\n",
    "def min_max_candle(data: pd.DataFrame) -> None:\n",
    "    gb = data.dropna().groupby(pd.Grouper(freq='d'))\n",
    "    Y = [np.array(gb.get_group(x)) for x in gb.groups]\n",
    "    X = [x for x in gb.groups]\n",
    "    plt.boxplot(Y, labels=X, showfliers=False)\n",
    "    _ = plt.xticks(rotation=70)\n",
    "\n",
    "\n",
    "def effective_temp(t: np.array, h: np.array) -> np.array:\n",
    "    return t - 0.4 * (t - 10) * (1 - h / 100)\n",
    "\n",
    "\n",
    "HEAT_PERCEPTION = {-30: 'Крайне холодно', -24: 'Крайне холодно', -12: 'Очень холодно', 0: 'Холодно',\n",
    "                   12: 'Умеренно тепло', 18: 'Тепло', 24: 'Жарко', 30: 'Очень жарко'}\n",
    "\n",
    "_HP_VALUES = list(HEAT_PERCEPTION)\n",
    "_HP_LABELS = list(HEAT_PERCEPTION.values())\n",
    "\n",
    "\n",
    "def convert_labels(x: int) -> int:\n",
    "    return bisect(_HP_VALUES, x)\n",
    "\n",
    "\n",
    "def plot_effective(t: np.ndarray, h: np.ndarray) -> None:\n",
    "    fig, (ax1, ax2) = plt.subplots(2, 1)\n",
    "    fig.autofmt_xdate(rotation=70)\n",
    "\n",
    "    eff = effective_temp(t, h)\n",
    "\n",
    "    ax1.plot(t, label='temperature')\n",
    "    ax1.plot(eff, label='effective temperature')\n",
    "    ax1.set_ylabel(r'Temperature ($^\\circ$C)')\n",
    "\n",
    "    x = [convert_labels(x) for x in eff]\n",
    "    colormap = plt.get_cmap(\"turbo\")\n",
    "    rescale = Normalize(np.min(_HP_VALUES), np.max(_HP_VALUES))\n",
    "\n",
    "    ax2.bar(eff.index, x, width=25 / len(x), label='heat perception', color=colormap(rescale(eff)))\n",
    "    ax2.yaxis.tick_right()\n",
    "    ax2.set_ylabel('Heat perception')\n",
    "    ax2.set_yticks(ticks=np.arange(len(_HP_VALUES)), labels=_HP_LABELS)\n",
    "    fig.legend()"
   ]
  },
  {
   "cell_type": "markdown",
   "metadata": {},
   "source": [
    " Интерактивная клетка: выбор приборов, данных, типа графика, временной промежуток наблюдения, усреднение за промежуток"
   ]
  },
  {
   "cell_type": "code",
   "execution_count": 30,
   "metadata": {
    "ExecuteTime": {
     "end_time": "2023-07-31T09:15:46.647265300Z",
     "start_time": "2023-07-31T09:15:44.861137100Z"
    }
   },
   "outputs": [
    {
     "data": {
      "application/vnd.jupyter.widget-view+json": {
       "model_id": "7024152ed98041b7bd0aa9bb08812d5e",
       "version_major": 2,
       "version_minor": 0
      },
      "text/plain": [
       "interactive(children=(RadioButtons(description='Action:', options=('Real Data', 'Average', 'Min/Max'), value='…"
      ]
     },
     "metadata": {},
     "output_type": "display_data"
    }
   ],
   "source": [
    "meanButtons = widgets.RadioButtons(options=['1h', '3h', '1d'], description='Averaging window:')\n",
    "action = widgets.RadioButtons(options=['Real Data', 'Average', 'Min/Max'], description='Action:')\n",
    "dfDropdown = widgets.Dropdown(options=list(dataframes), description='source')\n",
    "columnDropdown = widgets.Dropdown(options=dataframes[list(dataframes)[0]], description='data')\n",
    "\n",
    "start_date, end_date = datetime(2022, 7, 2), datetime(2022, 7, 30)\n",
    "dates = pd.date_range(start_date, end_date, freq='D')\n",
    "options = [(date.strftime(' %d %b %Y '), date) for date in dates]\n",
    "selection_range_slider = widgets.SelectionRangeSlider(\n",
    "    options=options,\n",
    "    value=(start_date, end_date),\n",
    "    index=(0, len(options) - 1),\n",
    "    description='Dates',\n",
    "    orientation='horizontal',\n",
    "    layout={'width': '500px'}\n",
    ")\n",
    "\n",
    "\n",
    "def update_columns(change):\n",
    "    owner = change['owner'].value\n",
    "    l = dataframes[owner].columns.tolist()\n",
    "    columnDropdown.options = l\n",
    "    columnDropdown.value = l[0]\n",
    "\n",
    "\n",
    "dfDropdown.observe(update_columns)\n",
    "\n",
    "\n",
    "def printer(action, meanButtons, df, clmn, selection_range_slider):\n",
    "    s, e = selection_range_slider\n",
    "    df = dataframes[df][clmn]\n",
    "    mask = (df.index > s) & (df.index <= e)\n",
    "    match action:\n",
    "        case 'Real Data':\n",
    "            df.loc[mask].plot()\n",
    "        case 'Average':\n",
    "            draw_mean(df.loc[mask], meanButtons)\n",
    "        case 'Min/Max':\n",
    "            min_max_candle(df.loc[mask])\n",
    "\n",
    "\n",
    "widgets.interact(printer, meanButtons=meanButtons, selection_range_slider=selection_range_slider, action=action,\n",
    "                 df=dfDropdown, clmn=columnDropdown);"
   ]
  },
  {
   "cell_type": "markdown",
   "metadata": {},
   "source": [
    "График эффективной температуры и теплоощущения"
   ]
  },
  {
   "cell_type": "code",
   "execution_count": 24,
   "metadata": {},
   "outputs": [],
   "source": [
    "effective_df = {'Hydra-L': dataframes['Hydra-L'], 'Hydra-L1': dataframes['Hydra-L1']}"
   ]
  },
  {
   "cell_type": "code",
   "execution_count": 26,
   "metadata": {
    "ExecuteTime": {
     "end_time": "2023-07-31T09:15:48.312626700Z",
     "start_time": "2023-07-31T09:15:46.647265300Z"
    }
   },
   "outputs": [
    {
     "data": {
      "application/vnd.jupyter.widget-view+json": {
       "model_id": "5b3355cb4bf546659ecaeac217a37592",
       "version_major": 2,
       "version_minor": 0
      },
      "text/plain": [
       "interactive(children=(RadioButtons(description='Averaging window:', options=('1h', '3h', '1d'), value='1h'), D…"
      ]
     },
     "metadata": {},
     "output_type": "display_data"
    }
   ],
   "source": [
    "effectiveTempDropdown = widgets.Dropdown(options=list(effective_df))\n",
    "\n",
    "\n",
    "def effective_printer(meanButtons, frame):\n",
    "    df = effective_df[frame]\n",
    "    df = df.resample(meanButtons).mean()\n",
    "    plot_effective(df.BME280_temp, df.BME280_humidity)\n",
    "\n",
    "\n",
    "widgets.interact(effective_printer, meanButtons=meanButtons, frame=effectiveTempDropdown);"
   ]
  }
 ],
 "metadata": {
  "kernelspec": {
   "display_name": "Python 3 (ipykernel)",
   "language": "python",
   "name": "python3"
  },
  "language_info": {
   "codemirror_mode": {
    "name": "ipython",
    "version": 3
   },
   "file_extension": ".py",
   "mimetype": "text/x-python",
   "name": "python",
   "nbconvert_exporter": "python",
   "pygments_lexer": "ipython3",
   "version": "3.10.6"
  }
 },
 "nbformat": 4,
 "nbformat_minor": 4
}
